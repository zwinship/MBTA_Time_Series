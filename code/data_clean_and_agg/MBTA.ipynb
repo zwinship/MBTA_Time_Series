{
  "nbformat": 4,
  "nbformat_minor": 0,
  "metadata": {
    "colab": {
      "provenance": []
    },
    "kernelspec": {
      "name": "python3",
      "display_name": "Python 3"
    },
    "language_info": {
      "name": "python"
    }
  },
  "cells": [
    {
      "cell_type": "code",
      "execution_count": null,
      "metadata": {
        "id": "Vd54ePWgH9Qm"
      },
      "outputs": [],
      "source": [
        "import pandas as pd\n",
        "import numpy as np\n",
        "import seaborn as sns\n",
        "from datetime import datetime\n",
        "\n",
        "\n",
        "df22 = pd.read_csv('GSE_2022.csv').sort_values(by = 'service_date').reset_index(drop = True)\n",
        "df23= pd.read_csv('GSE_2023.csv').sort_values(by = 'service_date').reset_index(drop = True)\n",
        "df24 = pd.read_csv('GSE_2024.csv').sort_values(by = 'service_date').reset_index(drop = True)\n",
        "df25 = pd.read_csv('GSE_2025.csv').sort_values(by = 'service_date').reset_index(drop = True)\n",
        "dfw2 = pd.read_csv('Boston, MA, United States... 2023-03-01 to 2025-02-28.csv')\n",
        "dfw1 = pd.read_csv('Boston, MA, United States... 2022-01-01 to 2023-02-28.csv')\n",
        "\n"
      ]
    },
    {
      "cell_type": "code",
      "source": [
        "df = pd.concat([df22, df23, df24, df25]).reset_index(drop = True)\n",
        "dfw = pd.concat([dfw1, dfw2]).reset_index(drop = True)\n",
        "dfw = dfw[['datetime', 'temp', 'precip', 'preciptype', 'snow']]\n",
        "dfw['date'] = pd.to_datetime(dfw['datetime'])\n",
        "df['date'] = pd.to_datetime(df['service_date'])\n",
        "\n",
        "\n",
        "df['time_period'] = df['time_period'].str.strip('()')\n",
        "df['time_period'] = pd.to_timedelta(df['time_period'])\n",
        "\n",
        "df['time'] = df['date'] + df['time_period']\n",
        "\n",
        "\n",
        "df = df.merge(dfw, on = 'date')\n",
        "df = df[['time', 'stop_id', 'route_or_line', 'gated_entries', 'temp', 'precip', 'preciptype', 'snow']]\n",
        "\n",
        "df = df[(df['route_or_line'] != 'Mattapan Line') & (df['route_or_line'] != 'Silver Line') & (df['route_or_line'] != 'Green Line')]\n",
        "df = df[df['gated_entries'] < 3500]\n",
        "\n",
        "\n"
      ],
      "metadata": {
        "collapsed": true,
        "id": "AehTjt3Vzrbs"
      },
      "execution_count": null,
      "outputs": []
    },
    {
      "cell_type": "code",
      "source": [
        "import pandas as pd\n",
        "import os\n",
        "\n",
        "# Create the list of months from Jan 2022 to Feb 2025\n",
        "months = pd.date_range('2022-01-01', '2025-02-01', freq='MS').strftime('%Y-%m').tolist()\n",
        "\n",
        "# Define a mapping from CSV route_id values to df route_or_line values\n",
        "route_mapping = {\n",
        "    'Red': 'Red Line',\n",
        "    'Blue': 'Blue Line',\n",
        "    'Orange': 'Orange Line',\n",
        "    'Green': 'Green Line',\n",
        "    # Add any other mappings you need\n",
        "}\n",
        "\n",
        "# Make sure time column in df is in datetime format\n",
        "if not pd.api.types.is_datetime64_any_dtype(df['time']):\n",
        "    df['time'] = pd.to_datetime(df['time'])\n",
        "\n",
        "# Initialize or reset traincnt column with zeros\n",
        "df['traincnt'] = 0\n",
        "\n",
        "# Process one month at a time\n",
        "for month in months:\n",
        "    file_path = f'{month}_HREvents.csv'\n",
        "\n",
        "    # Skip if file doesn't exist\n",
        "    if not os.path.exists(file_path):\n",
        "        print(f\"File not found: {file_path}\")\n",
        "        continue\n",
        "\n",
        "    try:\n",
        "        print(f\"Processing {month}...\")\n",
        "        # Read the CSV with low_memory=False to handle mixed types\n",
        "        tempdf = pd.read_csv(file_path, low_memory=False)\n",
        "\n",
        "        # Parse datetime based on month format\n",
        "        if month >= '2024-01':\n",
        "            # Parse ISO format with timezone, then convert to naive datetime by removing timezone\n",
        "            tempdf['datetime'] = pd.to_datetime(tempdf['event_time']).dt.tz_localize(None)\n",
        "        else:\n",
        "            # For earlier months, assume 'event_time' is an epoch timestamp\n",
        "            tempdf['datetime'] = pd.to_datetime(tempdf['event_time'], unit='s')\n",
        "\n",
        "        # Create 30-minute intervals\n",
        "        tempdf['interval'] = tempdf['datetime'].dt.floor('30min')\n",
        "\n",
        "        # Group by interval and route to count unique vehicles\n",
        "        interval_counts = tempdf.groupby(['interval', 'route_id'])['vehicle_id'].nunique().reset_index(name='month_count')\n",
        "\n",
        "        # Rename columns to match your main df\n",
        "        interval_counts.rename(columns={'interval': 'time', 'route_id': 'route_id_original'}, inplace=True)\n",
        "\n",
        "        # Map the route_id values to match your main df's route_or_line values\n",
        "        interval_counts['route_or_line'] = interval_counts['route_id_original'].map(route_mapping)\n",
        "\n",
        "        # Drop rows where the mapping didn't work\n",
        "        interval_counts = interval_counts.dropna(subset=['route_or_line'])\n",
        "\n",
        "        # Free up memory\n",
        "        del tempdf\n",
        "\n",
        "        # Now merge\n",
        "        df = df.merge(interval_counts[['time', 'route_or_line', 'month_count']],\n",
        "                     on=['time', 'route_or_line'], how='left')\n",
        "\n",
        "        # Add this month's counts to the running total\n",
        "        df['month_count'] = df['month_count'].fillna(0)\n",
        "        df['traincnt'] += df['month_count'].astype(int)\n",
        "        print(f\"Added {df['month_count'].sum()} train counts from {month}\")\n",
        "\n",
        "        # Drop the month_count column\n",
        "        df.drop(columns=['month_count'], inplace=True)\n",
        "\n",
        "    except Exception as e:\n",
        "        print(f\"Error processing {month}: {e}\")\n",
        "        import traceback\n",
        "        traceback.print_exc()\n",
        "\n",
        "print(\"\\nProcessing complete!\")\n",
        "print(f\"Non-zero train count values: {(df['traincnt'] > 0).sum()} out of {len(df)}\")\n",
        "\n"
      ],
      "metadata": {
        "id": "93FX0rMd2QMP",
        "colab": {
          "base_uri": "https://localhost:8080/"
        },
        "collapsed": true,
        "outputId": "dba542cd-b4c6-425b-932f-d544e8df1475"
      },
      "execution_count": null,
      "outputs": [
        {
          "output_type": "execute_result",
          "data": {
            "text/plain": [
              "0.08863664179410913"
            ]
          },
          "metadata": {},
          "execution_count": 6
        }
      ]
    },
    {
      "cell_type": "code",
      "source": [
        "# Mapping train capacity and line length\n",
        "train_capacity_dict = {\n",
        "    'Red Line': 852,\n",
        "    'Blue Line': 456,\n",
        "    'Orange Line': 744\n",
        "}\n",
        "\n",
        "df['single_traincap'] = df['route_or_line'].map(train_capacity_dict)\n",
        "\n",
        "line_length_dict = {\n",
        "    'Red Line': 2520,\n",
        "    'Blue Line': 1200,\n",
        "    'Orange Line': 2160\n",
        "}\n",
        "\n",
        "df['line_length_sec'] = df['route_or_line'].map(line_length_dict)\n",
        "\n",
        "# Group by line and time\n",
        "grouped_by_line = df.groupby(['route_or_line', 'time']).agg({\n",
        "    'gated_entries': 'sum',\n",
        "    'temp': 'first',\n",
        "    'precip': 'first',\n",
        "    'preciptype': 'first',\n",
        "    'snow': 'first',\n",
        "    'traincnt': 'first',\n",
        "    'single_traincap': 'first',\n",
        "    'line_length_sec': 'first',\n",
        "}).reset_index()\n",
        "\n",
        "# Round gated entries\n",
        "grouped_by_line['gated_entries'] = grouped_by_line['gated_entries'].round(3)\n",
        "\n",
        "\n",
        "grouped_by_line['traincnt'] = grouped_by_line['traincnt'].replace(0, np.nan)\n",
        "grouped_by_line['traincnt'] = grouped_by_line.groupby('route_or_line')['traincnt'].ffill()\n",
        "grouped_by_line['traincnt'] = grouped_by_line['traincnt'].fillna(0)\n",
        "\n",
        "# Calculate total line capacity and per-thirty-minute capacity\n",
        "grouped_by_line['tot_linecap'] = grouped_by_line['traincnt'] * grouped_by_line['single_traincap']\n",
        "grouped_by_line['per_thirty_cap'] = round((grouped_by_line['tot_linecap'] * (1800 + 60)) / grouped_by_line['line_length_sec'], 3)\n",
        "\n",
        "\n",
        "# Calculate supply difference\n",
        "grouped_by_line['supply_gap_simple'] = round(grouped_by_line['gated_entries'] - grouped_by_line['per_thirty_cap'], 3)\n",
        "\n",
        "grouped_by_line['prev_supply_gap_simple'] = grouped_by_line.groupby('route_or_line')['supply_gap_simple'].shift(1)\n",
        "\n",
        "grouped_by_line['prev_supply_gap_simple'] = grouped_by_line['prev_supply_gap_simple'].apply(lambda x: max(x, 0))\n",
        "\n",
        "grouped_by_line['gated_entries_complex'] = grouped_by_line['gated_entries'] + grouped_by_line['prev_supply_gap_simple']\n",
        "\n",
        "grouped_by_line['supply_gap_complex'] = round(grouped_by_line['gated_entries_complex'] - grouped_by_line['per_thirty_cap'], 3)\n",
        "\n",
        "\n",
        "# Add date column and group by day\n",
        "grouped_by_line['date'] = grouped_by_line['time'].dt.date\n",
        "\n",
        "# Group by line and date\n",
        "group_by_day_line = grouped_by_line.groupby(['route_or_line', 'date']).agg({\n",
        "    'gated_entries': 'sum',  # Total gated entries for the day\n",
        "    'temp': 'first',  # Taking first value (can adjust based on needs)\n",
        "    'precip': 'first',  # Same as above\n",
        "    'preciptype': 'first',  # Same as above\n",
        "    'snow': 'first',  # Same as above\n",
        "    'traincnt': 'mean',  # Average train count for the day\n",
        "    'single_traincap': 'first',  # Taking first value\n",
        "    'line_length_sec': 'first',  # Taking first value\n",
        "    'tot_linecap': 'mean',  # Mean capacity over the day\n",
        "    'per_thirty_cap': 'mean',  # Mean per-thirty-minute capacity\n",
        "    'supply_gap_simple': 'sum',  # Sum of the simple supply gap\n",
        "    'prev_supply_gap_simple': 'sum',  # Sum of the previous period's supply gap\n",
        "    'gated_entries_complex': 'sum',  # Sum of complex gated entries\n",
        "    'supply_gap_complex': 'sum'  # Sum of the complex supply gap\n",
        "}).reset_index()\n",
        "\n",
        "\n",
        "\n",
        "\n",
        "\n",
        "\n",
        "orange_line = grouped_by_line[grouped_by_line['route_or_line'] == 'Orange Line'].reset_index(drop = True)\n",
        "blue_line = grouped_by_line[grouped_by_line['route_or_line'] == 'Blue Line'].reset_index(drop = True)\n",
        "red_line = grouped_by_line[grouped_by_line['route_or_line'] == 'Red Line'].reset_index(drop = True)\n",
        "\n",
        "\n",
        "\n",
        "orange_line_day = group_by_day_line[group_by_day_line['route_or_line'] == 'Orange Line'].reset_index(drop = True)\n",
        "blue_line_day = group_by_day_line[group_by_day_line['route_or_line'] == 'Blue Line'].reset_index(drop = True)\n",
        "red_line_day = group_by_day_line[group_by_day_line['route_or_line'] == 'Red Line'].reset_index(drop = True)"
      ],
      "metadata": {
        "id": "pK6OTzkt4MKT"
      },
      "execution_count": null,
      "outputs": []
    },
    {
      "cell_type": "code",
      "source": [
        "df.to_csv('raw_with_weather.csv')\n",
        "\n",
        "grouped_by_line.to_csv('group_by_line.csv')\n",
        "\n",
        "\n",
        "orange_line.to_csv('orange_line.csv')\n",
        "blue_line.to_csv('blue_line.csv')\n",
        "red_line.to_csv('red_line.csv')\n",
        "\n",
        "\n",
        "orange_line_day.to_csv('orange_line_day.csv')\n",
        "blue_line_day.to_csv('blue_line_day.csv')\n",
        "red_line_day.to_csv('red_line_day.csv')"
      ],
      "metadata": {
        "id": "CH3rkdHAkths"
      },
      "execution_count": null,
      "outputs": []
    },
    {
      "cell_type": "code",
      "source": [
        "import seaborn as sns\n",
        "\n",
        "sns.histplot(data = grouped_by_line, x = 'supply_gap_simple', bins = 35)\n",
        "\n",
        "short = grouped_by_line[grouped_by_line['supply_gap_simple'] > 0]\n",
        "surplus = grouped_by_line[grouped_by_line['supply_gap_simple'] < 0]\n",
        "\n",
        "print(len(short) / len(surplus))\n",
        "\n",
        "\n",
        "\n",
        "\n",
        "sns.histplot(data = grouped_by_line, x = 'supply_gap_complex', bins = 35)\n",
        "\n",
        "short = grouped_by_line[grouped_by_line['supply_gap_complex'] > 0]\n",
        "surplus = grouped_by_line[grouped_by_line['supply_gap_complex'] < 0]\n",
        "\n",
        "print(len(short) / len(surplus))\n",
        "\n"
      ],
      "metadata": {
        "colab": {
          "base_uri": "https://localhost:8080/",
          "height": 487
        },
        "id": "gn2hFAZI3EbX",
        "outputId": "6b18022d-b4bb-4ddb-e0cd-1ad1e5a2da42"
      },
      "execution_count": null,
      "outputs": [
        {
          "output_type": "stream",
          "name": "stdout",
          "text": [
            "0.06605412805391744\n",
            "0.06981552057807515\n"
          ]
        },
        {
          "output_type": "display_data",
          "data": {
            "text/plain": [
              "<Figure size 640x480 with 1 Axes>"
            ],
            "image/png": "[encoded data removed]"
          },
          "metadata": {}
        }
      ]
    }
  ]
}